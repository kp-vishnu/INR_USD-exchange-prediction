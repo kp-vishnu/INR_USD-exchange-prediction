{
 "cells": [
  {
   "cell_type": "code",
   "execution_count": 34,
   "id": "863d5b82",
   "metadata": {},
   "outputs": [],
   "source": [
    "import pandas as pd\n",
    "import numpy as np"
   ]
  },
  {
   "cell_type": "code",
   "execution_count": 35,
   "id": "00ce60c0",
   "metadata": {},
   "outputs": [
    {
     "data": {
      "text/html": [
       "<div>\n",
       "<style scoped>\n",
       "    .dataframe tbody tr th:only-of-type {\n",
       "        vertical-align: middle;\n",
       "    }\n",
       "\n",
       "    .dataframe tbody tr th {\n",
       "        vertical-align: top;\n",
       "    }\n",
       "\n",
       "    .dataframe thead th {\n",
       "        text-align: right;\n",
       "    }\n",
       "</style>\n",
       "<table border=\"1\" class=\"dataframe\">\n",
       "  <thead>\n",
       "    <tr style=\"text-align: right;\">\n",
       "      <th></th>\n",
       "      <th>Open</th>\n",
       "      <th>High</th>\n",
       "      <th>Low</th>\n",
       "      <th>Close</th>\n",
       "    </tr>\n",
       "    <tr>\n",
       "      <th>Date</th>\n",
       "      <th></th>\n",
       "      <th></th>\n",
       "      <th></th>\n",
       "      <th></th>\n",
       "    </tr>\n",
       "  </thead>\n",
       "  <tbody>\n",
       "    <tr>\n",
       "      <th>2010-01-04</th>\n",
       "      <td>46.48</td>\n",
       "      <td>46.53</td>\n",
       "      <td>46.29</td>\n",
       "      <td>46.31</td>\n",
       "    </tr>\n",
       "    <tr>\n",
       "      <th>2010-01-05</th>\n",
       "      <td>46.23</td>\n",
       "      <td>46.25</td>\n",
       "      <td>46.08</td>\n",
       "      <td>46.19</td>\n",
       "    </tr>\n",
       "    <tr>\n",
       "      <th>2010-01-06</th>\n",
       "      <td>46.09</td>\n",
       "      <td>46.19</td>\n",
       "      <td>45.92</td>\n",
       "      <td>45.92</td>\n",
       "    </tr>\n",
       "    <tr>\n",
       "      <th>2010-01-07</th>\n",
       "      <td>45.78</td>\n",
       "      <td>45.88</td>\n",
       "      <td>45.54</td>\n",
       "      <td>45.66</td>\n",
       "    </tr>\n",
       "    <tr>\n",
       "      <th>2010-01-08</th>\n",
       "      <td>45.79</td>\n",
       "      <td>45.88</td>\n",
       "      <td>45.72</td>\n",
       "      <td>45.81</td>\n",
       "    </tr>\n",
       "    <tr>\n",
       "      <th>2010-01-11</th>\n",
       "      <td>45.39</td>\n",
       "      <td>45.42</td>\n",
       "      <td>45.28</td>\n",
       "      <td>45.33</td>\n",
       "    </tr>\n",
       "    <tr>\n",
       "      <th>2010-01-12</th>\n",
       "      <td>45.48</td>\n",
       "      <td>45.57</td>\n",
       "      <td>45.36</td>\n",
       "      <td>45.57</td>\n",
       "    </tr>\n",
       "    <tr>\n",
       "      <th>2010-01-13</th>\n",
       "      <td>45.68</td>\n",
       "      <td>45.71</td>\n",
       "      <td>45.55</td>\n",
       "      <td>45.65</td>\n",
       "    </tr>\n",
       "    <tr>\n",
       "      <th>2010-01-14</th>\n",
       "      <td>45.44</td>\n",
       "      <td>45.66</td>\n",
       "      <td>45.44</td>\n",
       "      <td>45.60</td>\n",
       "    </tr>\n",
       "    <tr>\n",
       "      <th>2010-01-15</th>\n",
       "      <td>45.64</td>\n",
       "      <td>45.77</td>\n",
       "      <td>45.63</td>\n",
       "      <td>45.77</td>\n",
       "    </tr>\n",
       "  </tbody>\n",
       "</table>\n",
       "</div>"
      ],
      "text/plain": [
       "             Open   High    Low  Close\n",
       "Date                                  \n",
       "2010-01-04  46.48  46.53  46.29  46.31\n",
       "2010-01-05  46.23  46.25  46.08  46.19\n",
       "2010-01-06  46.09  46.19  45.92  45.92\n",
       "2010-01-07  45.78  45.88  45.54  45.66\n",
       "2010-01-08  45.79  45.88  45.72  45.81\n",
       "2010-01-11  45.39  45.42  45.28  45.33\n",
       "2010-01-12  45.48  45.57  45.36  45.57\n",
       "2010-01-13  45.68  45.71  45.55  45.65\n",
       "2010-01-14  45.44  45.66  45.44  45.60\n",
       "2010-01-15  45.64  45.77  45.63  45.77"
      ]
     },
     "execution_count": 35,
     "metadata": {},
     "output_type": "execute_result"
    }
   ],
   "source": [
    "data=pd.read_csv(r\"C:\\Users\\Priya\\Documents\\Time Series\\usdinr.csv\", index_col='Date', parse_dates=True)\n",
    "data.head(10)"
   ]
  },
  {
   "cell_type": "code",
   "execution_count": 36,
   "id": "56b4077b",
   "metadata": {},
   "outputs": [
    {
     "data": {
      "text/plain": [
       "(3199, 4)"
      ]
     },
     "execution_count": 36,
     "metadata": {},
     "output_type": "execute_result"
    }
   ],
   "source": [
    "data.shape"
   ]
  },
  {
   "cell_type": "code",
   "execution_count": 37,
   "id": "9d97797b",
   "metadata": {},
   "outputs": [],
   "source": [
    "data['Avg']=data[['High', 'Low']].mean(axis=1)"
   ]
  },
  {
   "cell_type": "code",
   "execution_count": 38,
   "id": "9d116c0d",
   "metadata": {},
   "outputs": [
    {
     "data": {
      "text/html": [
       "<div>\n",
       "<style scoped>\n",
       "    .dataframe tbody tr th:only-of-type {\n",
       "        vertical-align: middle;\n",
       "    }\n",
       "\n",
       "    .dataframe tbody tr th {\n",
       "        vertical-align: top;\n",
       "    }\n",
       "\n",
       "    .dataframe thead th {\n",
       "        text-align: right;\n",
       "    }\n",
       "</style>\n",
       "<table border=\"1\" class=\"dataframe\">\n",
       "  <thead>\n",
       "    <tr style=\"text-align: right;\">\n",
       "      <th></th>\n",
       "      <th>Open</th>\n",
       "      <th>High</th>\n",
       "      <th>Low</th>\n",
       "      <th>Close</th>\n",
       "      <th>Avg</th>\n",
       "    </tr>\n",
       "    <tr>\n",
       "      <th>Date</th>\n",
       "      <th></th>\n",
       "      <th></th>\n",
       "      <th></th>\n",
       "      <th></th>\n",
       "      <th></th>\n",
       "    </tr>\n",
       "  </thead>\n",
       "  <tbody>\n",
       "    <tr>\n",
       "      <th>2010-01-04</th>\n",
       "      <td>46.48</td>\n",
       "      <td>46.53</td>\n",
       "      <td>46.29</td>\n",
       "      <td>46.31</td>\n",
       "      <td>46.410</td>\n",
       "    </tr>\n",
       "    <tr>\n",
       "      <th>2010-01-05</th>\n",
       "      <td>46.23</td>\n",
       "      <td>46.25</td>\n",
       "      <td>46.08</td>\n",
       "      <td>46.19</td>\n",
       "      <td>46.165</td>\n",
       "    </tr>\n",
       "    <tr>\n",
       "      <th>2010-01-06</th>\n",
       "      <td>46.09</td>\n",
       "      <td>46.19</td>\n",
       "      <td>45.92</td>\n",
       "      <td>45.92</td>\n",
       "      <td>46.055</td>\n",
       "    </tr>\n",
       "    <tr>\n",
       "      <th>2010-01-07</th>\n",
       "      <td>45.78</td>\n",
       "      <td>45.88</td>\n",
       "      <td>45.54</td>\n",
       "      <td>45.66</td>\n",
       "      <td>45.710</td>\n",
       "    </tr>\n",
       "    <tr>\n",
       "      <th>2010-01-08</th>\n",
       "      <td>45.79</td>\n",
       "      <td>45.88</td>\n",
       "      <td>45.72</td>\n",
       "      <td>45.81</td>\n",
       "      <td>45.800</td>\n",
       "    </tr>\n",
       "  </tbody>\n",
       "</table>\n",
       "</div>"
      ],
      "text/plain": [
       "             Open   High    Low  Close     Avg\n",
       "Date                                          \n",
       "2010-01-04  46.48  46.53  46.29  46.31  46.410\n",
       "2010-01-05  46.23  46.25  46.08  46.19  46.165\n",
       "2010-01-06  46.09  46.19  45.92  45.92  46.055\n",
       "2010-01-07  45.78  45.88  45.54  45.66  45.710\n",
       "2010-01-08  45.79  45.88  45.72  45.81  45.800"
      ]
     },
     "execution_count": 38,
     "metadata": {},
     "output_type": "execute_result"
    }
   ],
   "source": [
    "data.head()"
   ]
  },
  {
   "cell_type": "code",
   "execution_count": null,
   "id": "6e5ab25b",
   "metadata": {},
   "outputs": [],
   "source": []
  },
  {
   "cell_type": "code",
   "execution_count": 39,
   "id": "23912252",
   "metadata": {},
   "outputs": [
    {
     "data": {
      "text/plain": [
       "<AxesSubplot:xlabel='Date'>"
      ]
     },
     "execution_count": 39,
     "metadata": {},
     "output_type": "execute_result"
    },
    {
     "data": {
      "image/png": "[encoded data removed]",
      "text/plain": [
       "<Figure size 1440x720 with 1 Axes>"
      ]
     },
     "metadata": {
      "needs_background": "light"
     },
     "output_type": "display_data"
    }
   ],
   "source": [
    "data['Avg'].plot(figsize=(20,10))"
   ]
  },
  {
   "cell_type": "markdown",
   "id": "0ed7c928",
   "metadata": {},
   "source": [
    "### We need to check if the data is stationary in order to proceed with the ARIMA model. This can be done using the augmented Dickey - Fuller test."
   ]
  },
  {
   "cell_type": "code",
   "execution_count": 40,
   "id": "254ca83e",
   "metadata": {},
   "outputs": [],
   "source": [
    "from statsmodels.tsa.stattools import adfuller"
   ]
  },
  {
   "cell_type": "code",
   "execution_count": 44,
   "id": "11efeb1d",
   "metadata": {},
   "outputs": [],
   "source": [
    "def testfn(adf_data):\n",
    "    data_test=adfuller(adf_data, autolag = 'AIC')\n",
    "    print(\"1. ADF Value :\", data_test[0])\n",
    "    print(\"2. P Value :\", data_test[1])\n",
    "    print(\"3. Number of Lags :\", data_test[2])\n",
    "    print(\"4. # of observations used for critical value calculation :\", data_test[3])\n",
    "    print(\"5. Critical values :\", data_test[4])\n",
    "    for key, val in data_test[4].items():\n",
    "        print(\"\\t\", key,\":\", val)"
   ]
  },
  {
   "cell_type": "code",
   "execution_count": 45,
   "id": "9ed1e505",
   "metadata": {},
   "outputs": [
    {
     "name": "stdout",
     "output_type": "stream",
     "text": [
      "1. ADF Value : -0.8311100895699833\n",
      "2. P Value : 0.8098125016319446\n",
      "3. Number of Lags : 21\n",
      "4. # of observations used for critical value calculation : 3177\n",
      "5. Critical values : {'1%': -3.4324099910200605, '5%': -2.8624501783666307, '10%': -2.5672545087086727}\n",
      "\t 1% : -3.4324099910200605\n",
      "\t 5% : -2.8624501783666307\n",
      "\t 10% : -2.5672545087086727\n"
     ]
    }
   ],
   "source": [
    "testfn(data['Avg'])"
   ]
  },
  {
   "cell_type": "markdown",
   "id": "2f0587ae",
   "metadata": {},
   "source": [
    "#### The P Value is higher than what is ideal for the dataset to be stationary. Still, let's go ahead with the model to see if it is able to predict with a certain accuracy."
   ]
  },
  {
   "cell_type": "code",
   "execution_count": 46,
   "id": "012399cb",
   "metadata": {},
   "outputs": [],
   "source": [
    "from pmdarima import auto_arima"
   ]
  },
  {
   "cell_type": "code",
   "execution_count": 47,
   "id": "ca9e6328",
   "metadata": {},
   "outputs": [
    {
     "name": "stdout",
     "output_type": "stream",
     "text": [
      "Performing stepwise search to minimize aic\n",
      " ARIMA(2,1,2)(0,0,0)[0] intercept   : AIC=10.106, Time=4.95 sec\n",
      " ARIMA(0,1,0)(0,0,0)[0] intercept   : AIC=46.943, Time=0.52 sec\n",
      " ARIMA(1,1,0)(0,0,0)[0] intercept   : AIC=14.033, Time=0.28 sec\n",
      " ARIMA(0,1,1)(0,0,0)[0] intercept   : AIC=10.132, Time=0.50 sec\n",
      " ARIMA(0,1,0)(0,0,0)[0]             : AIC=51.304, Time=0.16 sec\n",
      " ARIMA(1,1,2)(0,0,0)[0] intercept   : AIC=14.018, Time=1.56 sec\n",
      " ARIMA(2,1,1)(0,0,0)[0] intercept   : AIC=7.686, Time=1.61 sec\n",
      " ARIMA(1,1,1)(0,0,0)[0] intercept   : AIC=8.151, Time=1.25 sec\n",
      " ARIMA(2,1,0)(0,0,0)[0] intercept   : AIC=5.708, Time=0.39 sec\n",
      " ARIMA(3,1,0)(0,0,0)[0] intercept   : AIC=7.649, Time=1.50 sec\n",
      " ARIMA(3,1,1)(0,0,0)[0] intercept   : AIC=9.700, Time=0.96 sec\n",
      " ARIMA(2,1,0)(0,0,0)[0]             : AIC=9.465, Time=0.20 sec\n",
      "\n",
      "Best model:  ARIMA(2,1,0)(0,0,0)[0] intercept\n",
      "Total fit time: 14.034 seconds\n"
     ]
    }
   ],
   "source": [
    "step_fit = auto_arima(data['Avg'], trace=True)"
   ]
  },
  {
   "cell_type": "code",
   "execution_count": 48,
   "id": "748b7ebf",
   "metadata": {},
   "outputs": [
    {
     "data": {
      "text/html": [
       "<table class=\"simpletable\">\n",
       "<caption>SARIMAX Results</caption>\n",
       "<tr>\n",
       "  <th>Dep. Variable:</th>           <td>y</td>        <th>  No. Observations:  </th>  <td>3199</td> \n",
       "</tr>\n",
       "<tr>\n",
       "  <th>Model:</th>           <td>SARIMAX(2, 1, 0)</td> <th>  Log Likelihood     </th>  <td>1.146</td>\n",
       "</tr>\n",
       "<tr>\n",
       "  <th>Date:</th>            <td>Thu, 09 Feb 2023</td> <th>  AIC                </th>  <td>5.708</td>\n",
       "</tr>\n",
       "<tr>\n",
       "  <th>Time:</th>                <td>15:52:41</td>     <th>  BIC                </th> <td>29.989</td>\n",
       "</tr>\n",
       "<tr>\n",
       "  <th>Sample:</th>                  <td>0</td>        <th>  HQIC               </th> <td>14.413</td>\n",
       "</tr>\n",
       "<tr>\n",
       "  <th></th>                      <td> - 3199</td>     <th>                     </th>    <td> </td>  \n",
       "</tr>\n",
       "<tr>\n",
       "  <th>Covariance Type:</th>        <td>opg</td>       <th>                     </th>    <td> </td>  \n",
       "</tr>\n",
       "</table>\n",
       "<table class=\"simpletable\">\n",
       "<tr>\n",
       "      <td></td>         <th>coef</th>     <th>std err</th>      <th>z</th>      <th>P>|z|</th>  <th>[0.025</th>    <th>0.975]</th>  \n",
       "</tr>\n",
       "<tr>\n",
       "  <th>intercept</th> <td>    0.0103</td> <td>    0.004</td> <td>    2.377</td> <td> 0.017</td> <td>    0.002</td> <td>    0.019</td>\n",
       "</tr>\n",
       "<tr>\n",
       "  <th>ar.L1</th>     <td>    0.1100</td> <td>    0.011</td> <td>   10.096</td> <td> 0.000</td> <td>    0.089</td> <td>    0.131</td>\n",
       "</tr>\n",
       "<tr>\n",
       "  <th>ar.L2</th>     <td>   -0.0568</td> <td>    0.010</td> <td>   -5.592</td> <td> 0.000</td> <td>   -0.077</td> <td>   -0.037</td>\n",
       "</tr>\n",
       "<tr>\n",
       "  <th>sigma2</th>    <td>    0.0585</td> <td>    0.001</td> <td>   75.284</td> <td> 0.000</td> <td>    0.057</td> <td>    0.060</td>\n",
       "</tr>\n",
       "</table>\n",
       "<table class=\"simpletable\">\n",
       "<tr>\n",
       "  <th>Ljung-Box (L1) (Q):</th>     <td>0.00</td> <th>  Jarque-Bera (JB):  </th> <td>4262.52</td>\n",
       "</tr>\n",
       "<tr>\n",
       "  <th>Prob(Q):</th>                <td>0.98</td> <th>  Prob(JB):          </th>  <td>0.00</td>  \n",
       "</tr>\n",
       "<tr>\n",
       "  <th>Heteroskedasticity (H):</th> <td>0.58</td> <th>  Skew:              </th>  <td>0.26</td>  \n",
       "</tr>\n",
       "<tr>\n",
       "  <th>Prob(H) (two-sided):</th>    <td>0.00</td> <th>  Kurtosis:          </th>  <td>8.63</td>  \n",
       "</tr>\n",
       "</table><br/><br/>Warnings:<br/>[1] Covariance matrix calculated using the outer product of gradients (complex-step)."
      ],
      "text/plain": [
       "<class 'statsmodels.iolib.summary.Summary'>\n",
       "\"\"\"\n",
       "                               SARIMAX Results                                \n",
       "==============================================================================\n",
       "Dep. Variable:                      y   No. Observations:                 3199\n",
       "Model:               SARIMAX(2, 1, 0)   Log Likelihood                   1.146\n",
       "Date:                Thu, 09 Feb 2023   AIC                              5.708\n",
       "Time:                        15:52:41   BIC                             29.989\n",
       "Sample:                             0   HQIC                            14.413\n",
       "                               - 3199                                         \n",
       "Covariance Type:                  opg                                         \n",
       "==============================================================================\n",
       "                 coef    std err          z      P>|z|      [0.025      0.975]\n",
       "------------------------------------------------------------------------------\n",
       "intercept      0.0103      0.004      2.377      0.017       0.002       0.019\n",
       "ar.L1          0.1100      0.011     10.096      0.000       0.089       0.131\n",
       "ar.L2         -0.0568      0.010     -5.592      0.000      -0.077      -0.037\n",
       "sigma2         0.0585      0.001     75.284      0.000       0.057       0.060\n",
       "===================================================================================\n",
       "Ljung-Box (L1) (Q):                   0.00   Jarque-Bera (JB):              4262.52\n",
       "Prob(Q):                              0.98   Prob(JB):                         0.00\n",
       "Heteroskedasticity (H):               0.58   Skew:                             0.26\n",
       "Prob(H) (two-sided):                  0.00   Kurtosis:                         8.63\n",
       "===================================================================================\n",
       "\n",
       "Warnings:\n",
       "[1] Covariance matrix calculated using the outer product of gradients (complex-step).\n",
       "\"\"\""
      ]
     },
     "execution_count": 48,
     "metadata": {},
     "output_type": "execute_result"
    }
   ],
   "source": [
    "step_fit.summary()"
   ]
  },
  {
   "cell_type": "code",
   "execution_count": 69,
   "id": "4f57af1f",
   "metadata": {},
   "outputs": [],
   "source": [
    "from statsmodels.tsa.arima.model import ARIMA"
   ]
  },
  {
   "cell_type": "code",
   "execution_count": 89,
   "id": "2666c2ea",
   "metadata": {},
   "outputs": [],
   "source": [
    "data_train=data.iloc[:-10]\n",
    "data_test=data.iloc[-10:]"
   ]
  },
  {
   "cell_type": "code",
   "execution_count": 90,
   "id": "6fd22f9a",
   "metadata": {},
   "outputs": [
    {
     "data": {
      "text/plain": [
       "(3189, 5)"
      ]
     },
     "execution_count": 90,
     "metadata": {},
     "output_type": "execute_result"
    }
   ],
   "source": [
    "data_train.shape"
   ]
  },
  {
   "cell_type": "code",
   "execution_count": 91,
   "id": "9b723b03",
   "metadata": {},
   "outputs": [
    {
     "data": {
      "text/html": [
       "<div>\n",
       "<style scoped>\n",
       "    .dataframe tbody tr th:only-of-type {\n",
       "        vertical-align: middle;\n",
       "    }\n",
       "\n",
       "    .dataframe tbody tr th {\n",
       "        vertical-align: top;\n",
       "    }\n",
       "\n",
       "    .dataframe thead th {\n",
       "        text-align: right;\n",
       "    }\n",
       "</style>\n",
       "<table border=\"1\" class=\"dataframe\">\n",
       "  <thead>\n",
       "    <tr style=\"text-align: right;\">\n",
       "      <th></th>\n",
       "      <th>Open</th>\n",
       "      <th>High</th>\n",
       "      <th>Low</th>\n",
       "      <th>Close</th>\n",
       "      <th>Avg</th>\n",
       "    </tr>\n",
       "    <tr>\n",
       "      <th>Date</th>\n",
       "      <th></th>\n",
       "      <th></th>\n",
       "      <th></th>\n",
       "      <th></th>\n",
       "      <th></th>\n",
       "    </tr>\n",
       "  </thead>\n",
       "  <tbody>\n",
       "    <tr>\n",
       "      <th>2010-01-04</th>\n",
       "      <td>46.4800</td>\n",
       "      <td>46.5300</td>\n",
       "      <td>46.2900</td>\n",
       "      <td>46.3100</td>\n",
       "      <td>46.4100</td>\n",
       "    </tr>\n",
       "    <tr>\n",
       "      <th>2010-01-05</th>\n",
       "      <td>46.2300</td>\n",
       "      <td>46.2500</td>\n",
       "      <td>46.0800</td>\n",
       "      <td>46.1900</td>\n",
       "      <td>46.1650</td>\n",
       "    </tr>\n",
       "    <tr>\n",
       "      <th>2010-01-06</th>\n",
       "      <td>46.0900</td>\n",
       "      <td>46.1900</td>\n",
       "      <td>45.9200</td>\n",
       "      <td>45.9200</td>\n",
       "      <td>46.0550</td>\n",
       "    </tr>\n",
       "    <tr>\n",
       "      <th>2010-01-07</th>\n",
       "      <td>45.7800</td>\n",
       "      <td>45.8800</td>\n",
       "      <td>45.5400</td>\n",
       "      <td>45.6600</td>\n",
       "      <td>45.7100</td>\n",
       "    </tr>\n",
       "    <tr>\n",
       "      <th>2010-01-08</th>\n",
       "      <td>45.7900</td>\n",
       "      <td>45.8800</td>\n",
       "      <td>45.7200</td>\n",
       "      <td>45.8100</td>\n",
       "      <td>45.8000</td>\n",
       "    </tr>\n",
       "    <tr>\n",
       "      <th>...</th>\n",
       "      <td>...</td>\n",
       "      <td>...</td>\n",
       "      <td>...</td>\n",
       "      <td>...</td>\n",
       "      <td>...</td>\n",
       "    </tr>\n",
       "    <tr>\n",
       "      <th>2023-01-16</th>\n",
       "      <td>81.3755</td>\n",
       "      <td>81.7375</td>\n",
       "      <td>81.3705</td>\n",
       "      <td>81.6138</td>\n",
       "      <td>81.5540</td>\n",
       "    </tr>\n",
       "    <tr>\n",
       "      <th>2023-01-17</th>\n",
       "      <td>81.8285</td>\n",
       "      <td>81.8655</td>\n",
       "      <td>81.7125</td>\n",
       "      <td>81.7735</td>\n",
       "      <td>81.7890</td>\n",
       "    </tr>\n",
       "    <tr>\n",
       "      <th>2023-01-18</th>\n",
       "      <td>81.6895</td>\n",
       "      <td>81.7065</td>\n",
       "      <td>81.2425</td>\n",
       "      <td>81.2700</td>\n",
       "      <td>81.4745</td>\n",
       "    </tr>\n",
       "    <tr>\n",
       "      <th>2023-01-19</th>\n",
       "      <td>81.3555</td>\n",
       "      <td>81.4195</td>\n",
       "      <td>81.3005</td>\n",
       "      <td>81.3775</td>\n",
       "      <td>81.3600</td>\n",
       "    </tr>\n",
       "    <tr>\n",
       "      <th>2023-01-20</th>\n",
       "      <td>81.2695</td>\n",
       "      <td>81.2695</td>\n",
       "      <td>81.0745</td>\n",
       "      <td>81.1662</td>\n",
       "      <td>81.1720</td>\n",
       "    </tr>\n",
       "  </tbody>\n",
       "</table>\n",
       "<p>3199 rows × 5 columns</p>\n",
       "</div>"
      ],
      "text/plain": [
       "               Open     High      Low    Close      Avg\n",
       "Date                                                   \n",
       "2010-01-04  46.4800  46.5300  46.2900  46.3100  46.4100\n",
       "2010-01-05  46.2300  46.2500  46.0800  46.1900  46.1650\n",
       "2010-01-06  46.0900  46.1900  45.9200  45.9200  46.0550\n",
       "2010-01-07  45.7800  45.8800  45.5400  45.6600  45.7100\n",
       "2010-01-08  45.7900  45.8800  45.7200  45.8100  45.8000\n",
       "...             ...      ...      ...      ...      ...\n",
       "2023-01-16  81.3755  81.7375  81.3705  81.6138  81.5540\n",
       "2023-01-17  81.8285  81.8655  81.7125  81.7735  81.7890\n",
       "2023-01-18  81.6895  81.7065  81.2425  81.2700  81.4745\n",
       "2023-01-19  81.3555  81.4195  81.3005  81.3775  81.3600\n",
       "2023-01-20  81.2695  81.2695  81.0745  81.1662  81.1720\n",
       "\n",
       "[3199 rows x 5 columns]"
      ]
     },
     "execution_count": 91,
     "metadata": {},
     "output_type": "execute_result"
    }
   ],
   "source": [
    "data"
   ]
  },
  {
   "cell_type": "code",
   "execution_count": 92,
   "id": "079c0102",
   "metadata": {},
   "outputs": [
    {
     "data": {
      "text/html": [
       "<table class=\"simpletable\">\n",
       "<caption>SARIMAX Results</caption>\n",
       "<tr>\n",
       "  <th>Dep. Variable:</th>          <td>Avg</td>       <th>  No. Observations:  </th>  <td>3189</td> \n",
       "</tr>\n",
       "<tr>\n",
       "  <th>Model:</th>            <td>ARIMA(2, 1, 0)</td>  <th>  Log Likelihood     </th> <td>-1.339</td>\n",
       "</tr>\n",
       "<tr>\n",
       "  <th>Date:</th>            <td>Mon, 13 Feb 2023</td> <th>  AIC                </th>  <td>8.679</td>\n",
       "</tr>\n",
       "<tr>\n",
       "  <th>Time:</th>                <td>08:09:57</td>     <th>  BIC                </th> <td>26.880</td>\n",
       "</tr>\n",
       "<tr>\n",
       "  <th>Sample:</th>                  <td>0</td>        <th>  HQIC               </th> <td>15.205</td>\n",
       "</tr>\n",
       "<tr>\n",
       "  <th></th>                      <td> - 3189</td>     <th>                     </th>    <td> </td>  \n",
       "</tr>\n",
       "<tr>\n",
       "  <th>Covariance Type:</th>        <td>opg</td>       <th>                     </th>    <td> </td>  \n",
       "</tr>\n",
       "</table>\n",
       "<table class=\"simpletable\">\n",
       "<tr>\n",
       "     <td></td>       <th>coef</th>     <th>std err</th>      <th>z</th>      <th>P>|z|</th>  <th>[0.025</th>    <th>0.975]</th>  \n",
       "</tr>\n",
       "<tr>\n",
       "  <th>ar.L1</th>  <td>    0.1110</td> <td>    0.011</td> <td>   10.211</td> <td> 0.000</td> <td>    0.090</td> <td>    0.132</td>\n",
       "</tr>\n",
       "<tr>\n",
       "  <th>ar.L2</th>  <td>   -0.0557</td> <td>    0.010</td> <td>   -5.489</td> <td> 0.000</td> <td>   -0.076</td> <td>   -0.036</td>\n",
       "</tr>\n",
       "<tr>\n",
       "  <th>sigma2</th> <td>    0.0586</td> <td>    0.001</td> <td>   75.587</td> <td> 0.000</td> <td>    0.057</td> <td>    0.060</td>\n",
       "</tr>\n",
       "</table>\n",
       "<table class=\"simpletable\">\n",
       "<tr>\n",
       "  <th>Ljung-Box (L1) (Q):</th>     <td>0.01</td> <th>  Jarque-Bera (JB):  </th> <td>4282.20</td>\n",
       "</tr>\n",
       "<tr>\n",
       "  <th>Prob(Q):</th>                <td>0.93</td> <th>  Prob(JB):          </th>  <td>0.00</td>  \n",
       "</tr>\n",
       "<tr>\n",
       "  <th>Heteroskedasticity (H):</th> <td>0.59</td> <th>  Skew:              </th>  <td>0.26</td>  \n",
       "</tr>\n",
       "<tr>\n",
       "  <th>Prob(H) (two-sided):</th>    <td>0.00</td> <th>  Kurtosis:          </th>  <td>8.65</td>  \n",
       "</tr>\n",
       "</table><br/><br/>Warnings:<br/>[1] Covariance matrix calculated using the outer product of gradients (complex-step)."
      ],
      "text/plain": [
       "<class 'statsmodels.iolib.summary.Summary'>\n",
       "\"\"\"\n",
       "                               SARIMAX Results                                \n",
       "==============================================================================\n",
       "Dep. Variable:                    Avg   No. Observations:                 3189\n",
       "Model:                 ARIMA(2, 1, 0)   Log Likelihood                  -1.339\n",
       "Date:                Mon, 13 Feb 2023   AIC                              8.679\n",
       "Time:                        08:09:57   BIC                             26.880\n",
       "Sample:                             0   HQIC                            15.205\n",
       "                               - 3189                                         \n",
       "Covariance Type:                  opg                                         \n",
       "==============================================================================\n",
       "                 coef    std err          z      P>|z|      [0.025      0.975]\n",
       "------------------------------------------------------------------------------\n",
       "ar.L1          0.1110      0.011     10.211      0.000       0.090       0.132\n",
       "ar.L2         -0.0557      0.010     -5.489      0.000      -0.076      -0.036\n",
       "sigma2         0.0586      0.001     75.587      0.000       0.057       0.060\n",
       "===================================================================================\n",
       "Ljung-Box (L1) (Q):                   0.01   Jarque-Bera (JB):              4282.20\n",
       "Prob(Q):                              0.93   Prob(JB):                         0.00\n",
       "Heteroskedasticity (H):               0.59   Skew:                             0.26\n",
       "Prob(H) (two-sided):                  0.00   Kurtosis:                         8.65\n",
       "===================================================================================\n",
       "\n",
       "Warnings:\n",
       "[1] Covariance matrix calculated using the outer product of gradients (complex-step).\n",
       "\"\"\""
      ]
     },
     "execution_count": 92,
     "metadata": {},
     "output_type": "execute_result"
    }
   ],
   "source": [
    "model = ARIMA(data_train['Avg'], order=(2,1,0))\n",
    "model=model.fit()\n",
    "model.summary()\n"
   ]
  },
  {
   "cell_type": "markdown",
   "id": "e6ad4ff8",
   "metadata": {},
   "source": [
    "#### Now that the model is fit, we need to make some predictions using it. "
   ]
  },
  {
   "cell_type": "code",
   "execution_count": 93,
   "id": "d6e7ea39",
   "metadata": {},
   "outputs": [
    {
     "name": "stdout",
     "output_type": "stream",
     "text": [
      "3189    82.704392\n",
      "3190    82.702362\n",
      "3191    82.700972\n",
      "3192    82.700931\n",
      "3193    82.701004\n",
      "3194    82.701015\n",
      "3195    82.701012\n",
      "3196    82.701011\n",
      "3197    82.701011\n",
      "3198    82.701011\n",
      "Name: predicted_mean, dtype: float64\n"
     ]
    }
   ],
   "source": [
    "initial = len(data_train)\n",
    "final= len(data)-1\n",
    "prediction = model.predict(start=initial, end=final, typ=\"levels\")\n",
    "print(prediction)"
   ]
  },
  {
   "cell_type": "code",
   "execution_count": 94,
   "id": "0b9ab5dd",
   "metadata": {},
   "outputs": [
    {
     "name": "stdout",
     "output_type": "stream",
     "text": [
      "Date\n",
      "2023-01-09    82.704392\n",
      "2023-01-10    82.702362\n",
      "2023-01-11    82.700972\n",
      "2023-01-12    82.700931\n",
      "2023-01-13    82.701004\n",
      "2023-01-16    82.701015\n",
      "2023-01-17    82.701012\n",
      "2023-01-18    82.701011\n",
      "2023-01-19    82.701011\n",
      "2023-01-20    82.701011\n",
      "Name: predicted_mean, dtype: float64\n"
     ]
    }
   ],
   "source": [
    "prediction.index=data.index[initial:final+1]\n",
    "print(prediction)"
   ]
  },
  {
   "cell_type": "code",
   "execution_count": null,
   "id": "80acaa89",
   "metadata": {},
   "outputs": [],
   "source": []
  },
  {
   "cell_type": "code",
   "execution_count": 95,
   "id": "235910a7",
   "metadata": {},
   "outputs": [
    {
     "data": {
      "text/plain": [
       "<AxesSubplot:xlabel='Date'>"
      ]
     },
     "execution_count": 95,
     "metadata": {},
     "output_type": "execute_result"
    },
    {
     "data": {
      "image/png": "[encoded data removed]",
      "text/plain": [
       "<Figure size 432x288 with 1 Axes>"
      ]
     },
     "metadata": {
      "needs_background": "light"
     },
     "output_type": "display_data"
    }
   ],
   "source": [
    "prediction.plot(legend=True)\n",
    "data_test['Avg'].plot(legend=True)"
   ]
  },
  {
   "cell_type": "markdown",
   "id": "de420805",
   "metadata": {},
   "source": [
    "#### Now we need to check the mean squared error "
   ]
  },
  {
   "cell_type": "code",
   "execution_count": 96,
   "id": "a83e3142",
   "metadata": {},
   "outputs": [
    {
     "name": "stdout",
     "output_type": "stream",
     "text": [
      "1.113914177968862\n"
     ]
    }
   ],
   "source": [
    "from sklearn.metrics import mean_squared_error\n",
    "from math import sqrt\n",
    "rmse=sqrt(mean_squared_error(prediction, data_test['Avg']))\n",
    "print(rmse)"
   ]
  },
  {
   "cell_type": "code",
   "execution_count": 98,
   "id": "5a83587a",
   "metadata": {},
   "outputs": [
    {
     "data": {
      "text/plain": [
       "81.63645"
      ]
     },
     "execution_count": 98,
     "metadata": {},
     "output_type": "execute_result"
    }
   ],
   "source": [
    "data_test['Avg'].mean()"
   ]
  },
  {
   "cell_type": "markdown",
   "id": "166d921b",
   "metadata": {},
   "source": [
    "#### Root mean squared error is very less compared to the mean value "
   ]
  },
  {
   "cell_type": "markdown",
   "id": "438177ce",
   "metadata": {},
   "source": [
    "## Making predictions about future dates "
   ]
  },
  {
   "cell_type": "markdown",
   "id": "32a83297",
   "metadata": {},
   "source": [
    "#### We train the entire dataset again before making a future prediction"
   ]
  },
  {
   "cell_type": "code",
   "execution_count": 99,
   "id": "7b113d65",
   "metadata": {},
   "outputs": [],
   "source": [
    "model1=ARIMA(data['Avg'], order=(1,0,5))\n",
    "model1=model1.fit()\n"
   ]
  },
  {
   "cell_type": "code",
   "execution_count": 100,
   "id": "abd962f3",
   "metadata": {},
   "outputs": [
    {
     "data": {
      "text/html": [
       "<div>\n",
       "<style scoped>\n",
       "    .dataframe tbody tr th:only-of-type {\n",
       "        vertical-align: middle;\n",
       "    }\n",
       "\n",
       "    .dataframe tbody tr th {\n",
       "        vertical-align: top;\n",
       "    }\n",
       "\n",
       "    .dataframe thead th {\n",
       "        text-align: right;\n",
       "    }\n",
       "</style>\n",
       "<table border=\"1\" class=\"dataframe\">\n",
       "  <thead>\n",
       "    <tr style=\"text-align: right;\">\n",
       "      <th></th>\n",
       "      <th>Open</th>\n",
       "      <th>High</th>\n",
       "      <th>Low</th>\n",
       "      <th>Close</th>\n",
       "      <th>Avg</th>\n",
       "    </tr>\n",
       "    <tr>\n",
       "      <th>Date</th>\n",
       "      <th></th>\n",
       "      <th></th>\n",
       "      <th></th>\n",
       "      <th></th>\n",
       "      <th></th>\n",
       "    </tr>\n",
       "  </thead>\n",
       "  <tbody>\n",
       "    <tr>\n",
       "      <th>2023-01-20</th>\n",
       "      <td>81.2695</td>\n",
       "      <td>81.2695</td>\n",
       "      <td>81.0745</td>\n",
       "      <td>81.1662</td>\n",
       "      <td>81.172</td>\n",
       "    </tr>\n",
       "  </tbody>\n",
       "</table>\n",
       "</div>"
      ],
      "text/plain": [
       "               Open     High      Low    Close     Avg\n",
       "Date                                                  \n",
       "2023-01-20  81.2695  81.2695  81.0745  81.1662  81.172"
      ]
     },
     "execution_count": 100,
     "metadata": {},
     "output_type": "execute_result"
    }
   ],
   "source": [
    "data.tail(1)"
   ]
  },
  {
   "cell_type": "code",
   "execution_count": 104,
   "id": "6c64f5a5",
   "metadata": {},
   "outputs": [
    {
     "name": "stdout",
     "output_type": "stream",
     "text": [
      "DatetimeIndex(['2023-01-20', '2023-01-21', '2023-01-22', '2023-01-23',\n",
      "               '2023-01-24', '2023-01-25', '2023-01-26', '2023-01-27',\n",
      "               '2023-01-28', '2023-01-29', '2023-01-30', '2023-01-31',\n",
      "               '2023-02-01', '2023-02-02', '2023-02-03', '2023-02-04',\n",
      "               '2023-02-05', '2023-02-06', '2023-02-07', '2023-02-08',\n",
      "               '2023-02-09', '2023-02-10', '2023-02-11', '2023-02-12'],\n",
      "              dtype='datetime64[ns]', freq='D')\n"
     ]
    }
   ],
   "source": [
    "new_index=pd.date_range(start='2023-01-20', end='2023-02-12')\n",
    "print(new_index)"
   ]
  },
  {
   "cell_type": "code",
   "execution_count": 106,
   "id": "9a297824",
   "metadata": {},
   "outputs": [],
   "source": [
    "prediction1=model1.predict(start= len(data), end=len(data)+23, typ='levels')\n",
    "prediction1.index=new_index"
   ]
  },
  {
   "cell_type": "code",
   "execution_count": 109,
   "id": "9cacd1ad",
   "metadata": {},
   "outputs": [
    {
     "data": {
      "text/plain": [
       "<AxesSubplot:>"
      ]
     },
     "execution_count": 109,
     "metadata": {},
     "output_type": "execute_result"
    },
    {
     "data": {
      "image/png": "[encoded data removed]",
      "text/plain": [
       "<Figure size 432x288 with 1 Axes>"
      ]
     },
     "metadata": {
      "needs_background": "light"
     },
     "output_type": "display_data"
    }
   ],
   "source": [
    "prediction1.plot()"
   ]
  },
  {
   "cell_type": "code",
   "execution_count": null,
   "id": "a3e6d97f",
   "metadata": {},
   "outputs": [],
   "source": []
  }
 ],
 "metadata": {
  "kernelspec": {
   "display_name": "Python 3 (ipykernel)",
   "language": "python",
   "name": "python3"
  },
  "language_info": {
   "codemirror_mode": {
    "name": "ipython",
    "version": 3
   },
   "file_extension": ".py",
   "mimetype": "text/x-python",
   "name": "python",
   "nbconvert_exporter": "python",
   "pygments_lexer": "ipython3",
   "version": "3.9.7"
  }
 },
 "nbformat": 4,
 "nbformat_minor": 5
}
